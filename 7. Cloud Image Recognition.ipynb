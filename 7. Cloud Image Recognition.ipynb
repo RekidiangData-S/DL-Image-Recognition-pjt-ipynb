{
 "cells": [
  {
   "cell_type": "markdown",
   "metadata": {},
   "source": [
    "Here we are using google cloud vision API for images recognitition and text recognition\n",
    "more detailsd : cloud.google.com/vision <=> console.cloud.google.com <=> console.developers.google.com/vision"
   ]
  },
  {
   "cell_type": "markdown",
   "metadata": {},
   "source": [
    "# Cloud Image Recognition"
   ]
  },
  {
   "cell_type": "code",
   "execution_count": null,
   "metadata": {},
   "outputs": [],
   "source": [
    "from base64 import b64encode\n",
    "\n",
    "import googleapiclient.discovery\n",
    "from oauth2client.client import GoogleCredentials\n",
    "\n",
    "# Settings\n",
    "IMAGE_FILE = \"road_sign.jpg\"\n",
    "CREDENTIALS_FILE = \"credentials.json\"\n",
    "\n",
    "# Connect to the Google Cloud-ML Service\n",
    "credentials = GoogleCredentials.from_stream(CREDENTIALS_FILE)\n",
    "service = googleapiclient.discovery.build('vision', 'v1', credentials=credentials)\n",
    "\n",
    "# Read file and convert it to a base64 encoding\n",
    "with open(IMAGE_FILE, \"rb\") as f:\n",
    "    image_data = f.read()\n",
    "    encoded_image_data = b64encode(image_data).decode('UTF-8')\n",
    "\n",
    "# Create the request object for the Google Vision API\n",
    "batch_request = [{\n",
    "    'image': {\n",
    "        'content': encoded_image_data\n",
    "    },\n",
    "    'features': [\n",
    "        {\n",
    "            'type': 'LABEL_DETECTION'\n",
    "        }\n",
    "    ]\n",
    "}]\n",
    "request = service.images().annotate(body={'requests': batch_request})\n",
    "\n",
    "# Send the request to Google\n",
    "response = request.execute()\n",
    "\n",
    "# Check for errors\n",
    "if 'error' in response:\n",
    "    raise RuntimeError(response['error'])\n",
    "\n",
    "# Print the results\n",
    "labels = response['responses'][0]['labelAnnotations']\n",
    "\n",
    "for label in labels:\n",
    "    print(label['description'], label['score'])"
   ]
  },
  {
   "cell_type": "markdown",
   "metadata": {},
   "source": [
    "# cloud_text_recognition"
   ]
  },
  {
   "cell_type": "code",
   "execution_count": null,
   "metadata": {},
   "outputs": [],
   "source": [
    "from base64 import b64encode\n",
    "\n",
    "import googleapiclient.discovery\n",
    "from oauth2client.client import GoogleCredentials\n",
    "\n",
    "# Change this values to match your project\n",
    "IMAGE_FILE = \"text.png\"\n",
    "CREDENTIALS_FILE = \"credentials.json\"\n",
    "\n",
    "# Connect to the Google Cloud-ML Service\n",
    "credentials = GoogleCredentials.from_stream(CREDENTIALS_FILE)\n",
    "service = googleapiclient.discovery.build('vision', 'v1', credentials=credentials)\n",
    "\n",
    "# Read file and convert it to a base64 encoding\n",
    "with open(IMAGE_FILE, \"rb\") as f:\n",
    "    image_data = f.read()\n",
    "    encoded_image_data = b64encode(image_data).decode('UTF-8')\n",
    "\n",
    "# Create the request object for the Google Vision API\n",
    "batch_request = [{\n",
    "    'image': {\n",
    "        'content': encoded_image_data\n",
    "    },\n",
    "    'features': [\n",
    "        {\n",
    "            'type': 'TEXT_DETECTION'\n",
    "        }\n",
    "    ]\n",
    "}]\n",
    "request = service.images().annotate(body={'requests': batch_request})\n",
    "\n",
    "# Send the request to Google\n",
    "response = request.execute()\n",
    "\n",
    "# Check for errors\n",
    "if 'error' in response:\n",
    "    raise RuntimeError(response['error'])\n",
    "\n",
    "# Print the results\n",
    "extracted_texts = response['responses'][0]['textAnnotations']\n",
    "\n",
    "# Print the first piece of text found in the image\n",
    "extracted_text = extracted_texts[0]\n",
    "print(extracted_text['description'])\n",
    "\n",
    "# Print the location where the text was detected\n",
    "print(extracted_text['boundingPoly'])"
   ]
  }
 ],
 "metadata": {
  "kernelspec": {
   "display_name": "Tflow-gpu",
   "language": "python",
   "name": "tflow-gpu"
  },
  "language_info": {
   "codemirror_mode": {
    "name": "ipython",
    "version": 3
   },
   "file_extension": ".py",
   "mimetype": "text/x-python",
   "name": "python",
   "nbconvert_exporter": "python",
   "pygments_lexer": "ipython3",
   "version": "3.6.10"
  }
 },
 "nbformat": 4,
 "nbformat_minor": 4
}
